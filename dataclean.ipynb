{
  "nbformat": 4,
  "nbformat_minor": 0,
  "metadata": {
    "colab": {
      "provenance": []
    },
    "kernelspec": {
      "name": "python3",
      "display_name": "Python 3"
    },
    "language_info": {
      "name": "python"
    }
  },
  "cells": [
    {
      "cell_type": "code",
      "execution_count": null,
      "metadata": {
        "id": "UtmpbF25gRUO"
      },
      "outputs": [],
      "source": [
        "\n",
        "\n",
        "import pandas as pd\n",
        "import numpy as np\n",
        "\n",
        "\n",
        "\n",
        "df = pd.read_csv('/content/Iris.csv')\n",
        "\n",
        "\n",
        "print(\"Original Data:\")\n",
        "print(df.head())\n",
        "\n",
        "\n",
        "df_cleaned = df.dropna()\n",
        "\n",
        "\n",
        "df_cleaned = df_cleaned.drop_duplicates()\n",
        "\n",
        "\n",
        "df_cleaned['SepalLengthCm'] = pd.to_numeric(df_cleaned['SepalLengthCm'], errors='coerce')\n",
        "\n",
        "\n",
        "df_cleaned = df_cleaned[np.abs(df_cleaned['SepalLengthCm'] - df_cleaned['SepalLengthCm'].mean()) <= (3 * df_cleaned['SepalLengthCm'].std())]\n",
        "\n",
        "\n",
        "df_cleaned = pd.get_dummies(df_cleaned, columns=['Species'])\n",
        "\n",
        "\n",
        "\n",
        "print(\"\\nCleaned Data:\")\n",
        "print(df_cleaned.head())\n",
        "\n",
        "\n",
        "\n",
        "df_cleaned.to_csv('cleaned_dataset.csv', index=False)\n",
        ""
      ]
    },
    {
      "cell_type": "code",
      "source": [],
      "metadata": {
        "id": "o9RPC-TEkTHZ"
      },
      "execution_count": null,
      "outputs": []
    }
  ]
}